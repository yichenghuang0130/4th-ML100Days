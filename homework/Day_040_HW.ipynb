{
 "cells": [
  {
   "cell_type": "markdown",
   "metadata": {},
   "source": [
    "## [作業重點]\n",
    "使用 Sklearn 中的 Lasso, Ridge 模型，來訓練各種資料集，務必了解送進去模型訓練的**資料型態**為何，也請了解模型中各項參數的意義。\n",
    "\n",
    "機器學習的模型非常多種，但要訓練的資料多半有固定的格式，確保你了解訓練資料的格式為何，這樣在應用新模型時，就能夠最快的上手開始訓練！"
   ]
  },
  {
   "cell_type": "markdown",
   "metadata": {},
   "source": [
    "## 練習時間\n",
    "試著使用 sklearn datasets 的其他資料集 (boston, ...)，來訓練自己的線性迴歸模型，並加上適當的正則化來觀察訓練情形。"
   ]
  },
  {
   "cell_type": "code",
   "execution_count": 1,
   "metadata": {},
   "outputs": [],
   "source": [
    "import numpy as np\n",
    "import matplotlib.pyplot as plt\n",
    "from sklearn import datasets, linear_model\n",
    "from sklearn.model_selection import train_test_split\n",
    "from sklearn.metrics import mean_squared_error, r2_score"
   ]
  },
  {
   "cell_type": "markdown",
   "metadata": {},
   "source": [
    "# Linear Regression"
   ]
  },
  {
   "cell_type": "code",
   "execution_count": 2,
   "metadata": {},
   "outputs": [
    {
     "name": "stdout",
     "output_type": "stream",
     "text": [
      "[-1.30799852e-01  4.94030235e-02  1.09535045e-03  2.70536624e+00\n",
      " -1.59570504e+01  3.41397332e+00  1.11887670e-03 -1.49308124e+00\n",
      "  3.64422378e-01 -1.31718155e-02 -9.52369666e-01  1.17492092e-02\n",
      " -5.94076089e-01]\n",
      "Mean squared error： 20.869292183770682\n"
     ]
    }
   ],
   "source": [
    "#讀取波士頓房價數據集\n",
    "boston = datasets.load_boston()\n",
    "\n",
    "#將資料做切割成訓練集與測試集\n",
    "x_train, x_test, y_train, y_test = train_test_split(boston.data, boston.target, test_size=0.2, random_state=5)\n",
    "\n",
    "#建立迴歸模型\n",
    "regression_model = linear_model.LinearRegression()\n",
    "\n",
    "#訓練模型\n",
    "regression_model.fit(x_train, y_train)\n",
    "\n",
    "#預測結果\n",
    "y_predict = regression_model.predict(x_test)\n",
    "\n",
    "#印出係數\n",
    "print(regression_model.coef_)\n",
    "\n",
    "# MSE\n",
    "print(\"Mean squared error：\", mean_squared_error(y_test, y_predict))"
   ]
  },
  {
   "cell_type": "markdown",
   "metadata": {},
   "source": [
    "# LASSO (alpha = 1)"
   ]
  },
  {
   "cell_type": "code",
   "execution_count": 3,
   "metadata": {},
   "outputs": [
    {
     "name": "stdout",
     "output_type": "stream",
     "text": [
      "[-0.07961832  0.05573009 -0.          0.         -0.          0.4465375\n",
      "  0.02493278 -0.66014543  0.31705708 -0.01544445 -0.79427553  0.00901392\n",
      " -0.83420754]\n",
      "Mean squared error： 29.355825654837474\n"
     ]
    }
   ],
   "source": [
    "#讀取波士頓房價數據集\n",
    "boston = datasets.load_boston()\n",
    "\n",
    "#將資料做切割成訓練集與測試集\n",
    "x_train, x_test, y_train, y_test = train_test_split(boston.data, boston.target, test_size=0.2, random_state=5)\n",
    "\n",
    "#建立迴歸模型\n",
    "Laso_model = linear_model.Lasso(alpha=1.0)\n",
    "\n",
    "#訓練模型\n",
    "Laso_model.fit(x_train, y_train)\n",
    "\n",
    "#預測結果\n",
    "y_predict = Laso_model.predict(x_test)\n",
    "\n",
    "#印出係數\n",
    "print(Laso_model.coef_)\n",
    "\n",
    "# MSE\n",
    "print(\"Mean squared error：\", mean_squared_error(y_test, y_predict))"
   ]
  },
  {
   "cell_type": "markdown",
   "metadata": {},
   "source": [
    "# LASSO (alpha = 0.1)"
   ]
  },
  {
   "cell_type": "code",
   "execution_count": 4,
   "metadata": {},
   "outputs": [
    {
     "name": "stdout",
     "output_type": "stream",
     "text": [
      "[-0.12292134  0.05415061 -0.0417807   0.82748267 -0.          3.1983821\n",
      " -0.00489453 -1.19598899  0.34055621 -0.01555885 -0.81475979  0.01213175\n",
      " -0.64983007]\n",
      "Mean squared error： 23.40636423156822\n"
     ]
    }
   ],
   "source": [
    "#讀取波士頓房價數據集\n",
    "boston = datasets.load_boston()\n",
    "\n",
    "#將資料做切割成訓練集與測試集\n",
    "x_train, x_test, y_train, y_test = train_test_split(boston.data, boston.target, test_size=0.2, random_state=5)\n",
    "\n",
    "#建立迴歸模型\n",
    "Laso_model = linear_model.Lasso(alpha=0.1)\n",
    "\n",
    "#訓練模型\n",
    "Laso_model.fit(x_train, y_train)\n",
    "\n",
    "#預測結果\n",
    "y_predict = Laso_model.predict(x_test)\n",
    "\n",
    "#印出係數\n",
    "print(Laso_model.coef_)\n",
    "\n",
    "# MSE\n",
    "print(\"Mean squared error：\", mean_squared_error(y_test, y_predict))"
   ]
  },
  {
   "cell_type": "markdown",
   "metadata": {},
   "source": [
    "# LASSO (alpha = 0.01)"
   ]
  },
  {
   "cell_type": "code",
   "execution_count": 5,
   "metadata": {},
   "outputs": [
    {
     "name": "stdout",
     "output_type": "stream",
     "text": [
      "[-1.29252243e-01  5.03015159e-02 -1.18827627e-02  2.48647008e+00\n",
      " -1.23087438e+01  3.40403060e+00 -9.92061859e-04 -1.43244418e+00\n",
      "  3.57458560e-01 -1.35916851e-02 -9.17804577e-01  1.18577228e-02\n",
      " -6.03023702e-01]\n",
      "Mean squared error： 21.167936856245262\n"
     ]
    }
   ],
   "source": [
    "#讀取波士頓房價數據集\n",
    "boston = datasets.load_boston()\n",
    "\n",
    "#將資料做切割成訓練集與測試集\n",
    "x_train, x_test, y_train, y_test = train_test_split(boston.data, boston.target, test_size=0.2, random_state=5)\n",
    "\n",
    "#建立迴歸模型\n",
    "Laso_model = linear_model.Lasso(alpha=0.01)\n",
    "\n",
    "#訓練模型\n",
    "Laso_model.fit(x_train, y_train)\n",
    "\n",
    "#預測結果\n",
    "y_predict = Laso_model.predict(x_test)\n",
    "\n",
    "#印出係數\n",
    "print(Laso_model.coef_)\n",
    "\n",
    "# MSE\n",
    "print(\"Mean squared error：\", mean_squared_error(y_test, y_predict))"
   ]
  },
  {
   "cell_type": "markdown",
   "metadata": {},
   "source": [
    "# LASSO (alpha = 0.001)"
   ]
  },
  {
   "cell_type": "code",
   "execution_count": 6,
   "metadata": {},
   "outputs": [
    {
     "name": "stdout",
     "output_type": "stream",
     "text": [
      "[-1.29252243e-01  5.03015159e-02 -1.18827627e-02  2.48647008e+00\n",
      " -1.23087438e+01  3.40403060e+00 -9.92061859e-04 -1.43244418e+00\n",
      "  3.57458560e-01 -1.35916851e-02 -9.17804577e-01  1.18577228e-02\n",
      " -6.03023702e-01]\n",
      "Mean squared error： 21.167936856245262\n"
     ]
    }
   ],
   "source": [
    "#讀取波士頓房價數據集\n",
    "boston = datasets.load_boston()\n",
    "\n",
    "#將資料做切割成訓練集與測試集\n",
    "x_train, x_test, y_train, y_test = train_test_split(boston.data, boston.target, test_size=0.2, random_state=5)\n",
    "\n",
    "#建立迴歸模型\n",
    "Laso_model = linear_model.Lasso(alpha=0.01)\n",
    "\n",
    "#訓練模型\n",
    "Laso_model.fit(x_train, y_train)\n",
    "\n",
    "#預測結果\n",
    "y_predict = Laso_model.predict(x_test)\n",
    "\n",
    "#印出係數\n",
    "print(Laso_model.coef_)\n",
    "\n",
    "# MSE\n",
    "print(\"Mean squared error：\", mean_squared_error(y_test, y_predict))"
   ]
  },
  {
   "cell_type": "markdown",
   "metadata": {},
   "source": [
    "# Ridge (alpha = 1)"
   ]
  },
  {
   "cell_type": "code",
   "execution_count": 7,
   "metadata": {},
   "outputs": [
    {
     "name": "stdout",
     "output_type": "stream",
     "text": [
      "[-1.28119023e-01  5.11339113e-02 -2.96980335e-02  2.48951428e+00\n",
      " -8.48187731e+00  3.42539775e+00 -4.02323845e-03 -1.37995760e+00\n",
      "  3.49347811e-01 -1.39133697e-02 -8.79583093e-01  1.19877320e-02\n",
      " -6.08894194e-01]\n",
      "Mean squared error： 21.59927033561889\n"
     ]
    }
   ],
   "source": [
    "#讀取波士頓房價數據集\n",
    "boston = datasets.load_boston()\n",
    "\n",
    "#將資料做切割成訓練集與測試集\n",
    "x_train, x_test, y_train, y_test = train_test_split(boston.data, boston.target, test_size=0.2, random_state=5)\n",
    "\n",
    "#建立迴歸模型\n",
    "Ridge_model = linear_model.Ridge(alpha=1.0)\n",
    "\n",
    "#訓練模型\n",
    "Ridge_model.fit(x_train, y_train)\n",
    "\n",
    "#預測結果\n",
    "y_predict = Ridge_model.predict(x_test)\n",
    "\n",
    "#印出係數\n",
    "print(Ridge_model.coef_)\n",
    "\n",
    "# MSE\n",
    "print(\"Mean squared error：\", mean_squared_error(y_test, y_predict))"
   ]
  },
  {
   "cell_type": "markdown",
   "metadata": {},
   "source": [
    "# Ridge (alpha = 0.1)"
   ]
  },
  {
   "cell_type": "code",
   "execution_count": 8,
   "metadata": {},
   "outputs": [
    {
     "name": "stdout",
     "output_type": "stream",
     "text": [
      "[-1.30332423e-01  4.96882992e-02 -4.27062515e-03  2.67479025e+00\n",
      " -1.46670401e+01  3.41819613e+00  2.07057363e-04 -1.47358283e+00\n",
      "  3.61713403e-01 -1.32943601e-02 -9.39603394e-01  1.17917246e-02\n",
      " -5.96453110e-01]\n",
      "Mean squared error： 20.95972224078456\n"
     ]
    }
   ],
   "source": [
    "#讀取波士頓房價數據集\n",
    "boston = datasets.load_boston()\n",
    "\n",
    "#將資料做切割成訓練集與測試集\n",
    "x_train, x_test, y_train, y_test = train_test_split(boston.data, boston.target, test_size=0.2, random_state=5)\n",
    "\n",
    "#建立迴歸模型\n",
    "Ridge_model = linear_model.Ridge(alpha=0.1)\n",
    "\n",
    "#訓練模型\n",
    "Ridge_model.fit(x_train, y_train)\n",
    "\n",
    "#預測結果\n",
    "y_predict = Ridge_model.predict(x_test)\n",
    "\n",
    "#印出係數\n",
    "print(Ridge_model.coef_)\n",
    "\n",
    "# MSE\n",
    "print(\"Mean squared error：\", mean_squared_error(y_test, y_predict))"
   ]
  },
  {
   "cell_type": "markdown",
   "metadata": {},
   "source": [
    "# Ridge (alpha = 0.01)"
   ]
  },
  {
   "cell_type": "code",
   "execution_count": 9,
   "metadata": {},
   "outputs": [
    {
     "name": "stdout",
     "output_type": "stream",
     "text": [
      "[-1.30749395e-01  4.94336353e-02  5.16178328e-04  2.70214433e+00\n",
      " -1.58179557e+01  3.41445314e+00  1.02029229e-03 -1.49097905e+00\n",
      "  3.64129093e-01 -1.31849684e-02 -9.50990872e-01  1.17538078e-02\n",
      " -5.94330418e-01]\n",
      "Mean squared error： 20.878357369399158\n"
     ]
    }
   ],
   "source": [
    "#讀取波士頓房價數據集\n",
    "boston = datasets.load_boston()\n",
    "\n",
    "#將資料做切割成訓練集與測試集\n",
    "x_train, x_test, y_train, y_test = train_test_split(boston.data, boston.target, test_size=0.2, random_state=5)\n",
    "\n",
    "#建立迴歸模型\n",
    "Ridge_model = linear_model.Ridge(alpha=0.01)\n",
    "\n",
    "#訓練模型\n",
    "Ridge_model.fit(x_train, y_train)\n",
    "\n",
    "#預測結果\n",
    "y_predict = Ridge_model.predict(x_test)\n",
    "\n",
    "#印出係數\n",
    "print(Ridge_model.coef_)\n",
    "\n",
    "# MSE\n",
    "print(\"Mean squared error：\", mean_squared_error(y_test, y_predict))"
   ]
  },
  {
   "cell_type": "markdown",
   "metadata": {},
   "source": [
    "可以發現，在原本迴歸模型就已經表現不錯了，使用LASSO與Ridge，MSE反而增加，也就是說，此資料集不需要懲罰項"
   ]
  }
 ],
 "metadata": {
  "kernelspec": {
   "display_name": "Python 3",
   "language": "python",
   "name": "python3"
  },
  "language_info": {
   "codemirror_mode": {
    "name": "ipython",
    "version": 3
   },
   "file_extension": ".py",
   "mimetype": "text/x-python",
   "name": "python",
   "nbconvert_exporter": "python",
   "pygments_lexer": "ipython3",
   "version": "3.8.3"
  }
 },
 "nbformat": 4,
 "nbformat_minor": 2
}
